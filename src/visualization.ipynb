{
 "cells": [
  {
   "cell_type": "code",
   "outputs": [],
   "source": [
    "from visualization import *"
   ],
   "metadata": {
    "collapsed": false,
    "ExecuteTime": {
     "end_time": "2024-04-20T16:54:37.242489Z",
     "start_time": "2024-04-20T16:54:36.760294Z"
    }
   },
   "id": "29107b5fd5352bc1",
   "execution_count": 1
  },
  {
   "cell_type": "code",
   "outputs": [],
   "source": [
    "ROOT = '../res/dataset/train/train/'"
   ],
   "metadata": {
    "collapsed": false,
    "ExecuteTime": {
     "end_time": "2024-04-20T16:54:37.246669Z",
     "start_time": "2024-04-20T16:54:37.243499Z"
    }
   },
   "id": "c9f35bb80f6f12aa",
   "execution_count": 2
  },
  {
   "cell_type": "code",
   "outputs": [],
   "source": [
    "# show_subject(subject_id='00001', num_images=1, root_dir=ROOT)\n",
    "# show_subject(subject_id='00078', num_images=1, root_dir=ROOT)"
   ],
   "metadata": {
    "collapsed": false,
    "ExecuteTime": {
     "end_time": "2024-04-20T16:54:37.255619Z",
     "start_time": "2024-04-20T16:54:37.247063Z"
    }
   },
   "id": "1fa50c8927842c0c",
   "execution_count": 3
  },
  {
   "cell_type": "code",
   "outputs": [],
   "source": [
    "from torch.utils.data import DataLoader"
   ],
   "metadata": {
    "collapsed": false,
    "ExecuteTime": {
     "end_time": "2024-04-20T16:54:39.160724Z",
     "start_time": "2024-04-20T16:54:37.257134Z"
    }
   },
   "id": "ffbe977a7491eebb",
   "execution_count": 4
  },
  {
   "cell_type": "code",
   "outputs": [],
   "source": [
    "from dataset import HumanPoseDataset"
   ],
   "metadata": {
    "collapsed": false,
    "ExecuteTime": {
     "end_time": "2024-04-20T16:54:39.490939Z",
     "start_time": "2024-04-20T16:54:39.161733Z"
    }
   },
   "id": "ae3fdd0b7b79fa51",
   "execution_count": 5
  },
  {
   "cell_type": "code",
   "outputs": [
    {
     "data": {
      "text/plain": "1350"
     },
     "execution_count": 6,
     "metadata": {},
     "output_type": "execute_result"
    }
   ],
   "source": [
    "dataset = HumanPoseDataset(root_dir=ROOT, train=True, transform=None)\n",
    "dataset.__len__()"
   ],
   "metadata": {
    "collapsed": false,
    "ExecuteTime": {
     "end_time": "2024-04-20T16:54:39.664672Z",
     "start_time": "2024-04-20T16:54:39.491948Z"
    }
   },
   "id": "e0b82c2eeedcc50e",
   "execution_count": 6
  },
  {
   "cell_type": "code",
   "outputs": [],
   "source": [
    "dataloader = DataLoader(dataset, batch_size=1, shuffle=True)\n",
    "data_iter = iter(dataloader)\n",
    "features, gt = next(iter(dataloader))\n",
    "# print(f'IR labels\\t{gt.IR}')\n",
    "# dataset.ground_truth_df.loc[(1, 1, 'IR')]"
   ],
   "metadata": {
    "collapsed": false,
    "ExecuteTime": {
     "end_time": "2024-04-20T16:56:04.695259Z",
     "start_time": "2024-04-20T16:56:04.670950Z"
    }
   },
   "id": "6da8f8e478145698",
   "execution_count": 9
  }
 ],
 "metadata": {
  "kernelspec": {
   "display_name": "Python 3",
   "language": "python",
   "name": "python3"
  },
  "language_info": {
   "codemirror_mode": {
    "name": "ipython",
    "version": 2
   },
   "file_extension": ".py",
   "mimetype": "text/x-python",
   "name": "python",
   "nbconvert_exporter": "python",
   "pygments_lexer": "ipython2",
   "version": "2.7.6"
  }
 },
 "nbformat": 4,
 "nbformat_minor": 5
}
