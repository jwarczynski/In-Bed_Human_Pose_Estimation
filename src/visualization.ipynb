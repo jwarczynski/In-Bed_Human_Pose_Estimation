{
 "cells": [
  {
   "cell_type": "code",
   "outputs": [],
   "source": [
    "from visualization import *"
   ],
   "metadata": {
    "collapsed": false,
    "ExecuteTime": {
     "end_time": "2024-04-20T16:54:37.242489Z",
     "start_time": "2024-04-20T16:54:36.760294Z"
    }
   },
   "id": "29107b5fd5352bc1",
   "execution_count": 1
  },
  {
   "cell_type": "code",
   "outputs": [],
   "source": [
    "ROOT = '../res/dataset/train/train/'"
   ],
   "metadata": {
    "collapsed": false,
    "ExecuteTime": {
     "end_time": "2024-04-20T16:54:37.246669Z",
     "start_time": "2024-04-20T16:54:37.243499Z"
    }
   },
   "id": "c9f35bb80f6f12aa",
   "execution_count": 2
  },
  {
   "cell_type": "code",
   "outputs": [],
   "source": [
    "show_subject(subject_id='00001', num_images=1, root_dir=ROOT)\n",
    "show_subject(subject_id='00078', num_images=1, root_dir=ROOT)"
   ],
   "metadata": {
    "collapsed": false,
    "ExecuteTime": {
     "end_time": "2024-04-20T16:54:37.255619Z",
     "start_time": "2024-04-20T16:54:37.247063Z"
    }
   },
   "id": "1fa50c8927842c0c",
   "execution_count": 3
  },
  {
   "cell_type": "code",
   "outputs": [],
   "source": [
    "from torch.utils.data import DataLoader"
   ],
   "metadata": {
    "collapsed": false,
    "ExecuteTime": {
     "end_time": "2024-04-20T16:54:39.160724Z",
     "start_time": "2024-04-20T16:54:37.257134Z"
    }
   },
   "id": "ffbe977a7491eebb",
   "execution_count": 4
  },
  {
   "cell_type": "code",
   "outputs": [],
   "source": [
    "from dataset import HumanPoseDataset"
   ],
   "metadata": {
    "collapsed": false,
    "ExecuteTime": {
     "end_time": "2024-04-20T16:54:39.490939Z",
     "start_time": "2024-04-20T16:54:39.161733Z"
    }
   },
   "id": "ae3fdd0b7b79fa51",
   "execution_count": 5
  },
  {
   "cell_type": "code",
   "outputs": [
    {
     "data": {
      "text/plain": "1350"
     },
     "execution_count": 6,
     "metadata": {},
     "output_type": "execute_result"
    }
   ],
   "source": [
    "dataset = HumanPoseDataset(root_dir=ROOT, train=True, transform=None)\n",
    "dataset.__len__()"
   ],
   "metadata": {
    "collapsed": false,
    "ExecuteTime": {
     "end_time": "2024-04-20T16:54:39.664672Z",
     "start_time": "2024-04-20T16:54:39.491948Z"
    }
   },
   "id": "e0b82c2eeedcc50e",
   "execution_count": 6
  },
  {
   "cell_type": "code",
   "outputs": [
    {
     "data": {
      "text/plain": "Right ankle        (44.85588507877664, 131.65848007414274, 0.0)\nRight knee        (47.821594068582016, 104.37395736793329, 0.0)\nRight hip           (53.15987025023169, 80.35171455050974, 0.0)\nLeft hip             (72.1404077849861, 81.24142724745136, 0.0)\nLeft knee          (76.88554216867469, 105.56024096385543, 0.0)\nLeft ankle         (79.25810936051899, 131.95505097312326, 0.0)\nRight wrist         (35.95875810936052, 72.64087117701577, 0.0)\nRight elbow         (42.779888785912874, 53.9569045412419, 0.0)\nRight shoulder      (51.67701575532901, 31.71408711770158, 0.0)\nLeft shoulder       (78.07182576459684, 33.19694161260428, 0.0)\nLeft elbow          (83.70667284522705, 54.84661723818351, 0.0)\nLeft wrist           (89.93466172381834, 72.9374420759963, 0.0)\nThorax             (64.13299351251158, 28.748378127896217, 0.0)\nHead top            (63.83642261353104, 10.06441149212236, 0.0)\nName: (1, 1, IR), dtype: object"
     },
     "execution_count": 8,
     "metadata": {},
     "output_type": "execute_result"
    }
   ],
   "source": [
    "dataloader = DataLoader(dataset, batch_size=1, shuffle=True)\n",
    "features, gt = next(iter(dataloader))\n",
    "# print(f'IR labels\\t{gt.IR}')\n",
    "# dataset.ground_truth_df.loc[(1, 1, 'IR')]"
   ],
   "metadata": {
    "collapsed": false,
    "ExecuteTime": {
     "end_time": "2024-04-20T16:54:49.976983Z",
     "start_time": "2024-04-20T16:54:49.945628Z"
    }
   },
   "id": "6da8f8e478145698",
   "execution_count": 8
  }
 ],
 "metadata": {
  "kernelspec": {
   "display_name": "Python 3",
   "language": "python",
   "name": "python3"
  },
  "language_info": {
   "codemirror_mode": {
    "name": "ipython",
    "version": 2
   },
   "file_extension": ".py",
   "mimetype": "text/x-python",
   "name": "python",
   "nbconvert_exporter": "python",
   "pygments_lexer": "ipython2",
   "version": "2.7.6"
  }
 },
 "nbformat": 4,
 "nbformat_minor": 5
}
